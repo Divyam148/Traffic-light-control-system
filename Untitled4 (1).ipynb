{
  "nbformat": 4,
  "nbformat_minor": 0,
  "metadata": {
    "colab": {
      "provenance": []
    },
    "kernelspec": {
      "name": "python3",
      "display_name": "Python 3"
    },
    "language_info": {
      "name": "python"
    }
  },
  "cells": [
    {
      "cell_type": "code",
      "execution_count": null,
      "metadata": {
        "colab": {
          "base_uri": "https://localhost:8080/",
          "height": 499
        },
        "id": "5ddkiIYji9h9",
        "outputId": "cac8084d-92ea-4699-f56b-4ef581b94692"
      },
      "outputs": [
        {
          "output_type": "display_data",
          "data": {
            "text/plain": [
              "<Figure size 600x600 with 1 Axes>"
            ],
            "image/png": "[encoded data removed]"
          },
          "metadata": {}
        }
      ],
      "source": [
        "import time\n",
        "import matplotlib.pyplot as plt\n",
        "import matplotlib.patches as patches\n",
        "from IPython.display import display, clear_output\n",
        "import numpy as np\n",
        "\n",
        "def draw_traffic_light(state, car_positions):\n",
        "    fig, ax = plt.subplots(figsize=(6, 6))\n",
        "    ax.set_xlim(0, 6)\n",
        "    ax.set_ylim(0, 6)\n",
        "    ax.set_xticks([])\n",
        "    ax.set_yticks([])\n",
        "    ax.set_frame_on(False)\n",
        "\n",
        "    # Draw traffic light box\n",
        "    box = patches.Rectangle((2, 1), 2, 4, linewidth=2, edgecolor='black', facecolor='gray')\n",
        "    ax.add_patch(box)\n",
        "\n",
        "    # Draw lights\n",
        "    colors = {'red': 'gray', 'yellow': 'gray', 'green': 'gray'}\n",
        "    colors[state] = state  # Activate the current light\n",
        "\n",
        "    red_light = patches.Circle((3, 4.5), 0.5, color=colors['red'])\n",
        "    yellow_light = patches.Circle((3, 3), 0.5, color=colors['yellow'])\n",
        "    green_light = patches.Circle((3, 1.5), 0.5, color=colors['green'])\n",
        "\n",
        "    ax.add_patch(red_light)\n",
        "    ax.add_patch(yellow_light)\n",
        "    ax.add_patch(green_light)\n",
        "\n",
        "    # Draw moving cars (dots)\n",
        "    for x in car_positions:\n",
        "        ax.plot(x, 0.5, 'bo', markersize=10)  # Cars as blue dots\n",
        "\n",
        "    display(fig)\n",
        "    plt.close(fig)\n",
        "\n",
        "# Traffic light cycle\n",
        "states = ['red', 'green', 'yellow']\n",
        "timings = [3, 3, 2]  # Time delays in seconds\n",
        "car_positions = np.linspace(-1, 0, 5)  # Initial positions of cars\n",
        "\n",
        "while True:\n",
        "    for state, delay in zip(states, timings):\n",
        "        for _ in range(delay):\n",
        "            clear_output(wait=True)\n",
        "\n",
        "            if state == 'red':\n",
        "                # Stop cars if red\n",
        "                car_positions = car_positions\n",
        "            else:\n",
        "                # Move cars if green or yellow\n",
        "                car_positions += 0.5  # Cars move forward\n",
        "                car_positions = np.where(car_positions > 6, -1, car_positions)  # Reset if off screen\n",
        "\n",
        "            draw_traffic_light(state, car_positions)\n",
        "            time.sleep(1)\n"
      ]
    }
  ]
}